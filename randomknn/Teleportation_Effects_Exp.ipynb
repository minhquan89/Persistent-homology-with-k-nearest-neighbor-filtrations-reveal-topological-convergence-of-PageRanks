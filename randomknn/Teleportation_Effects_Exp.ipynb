{
 "cells": [
  {
   "cell_type": "code",
   "execution_count": 7,
   "metadata": {},
   "outputs": [
    {
     "name": "stdout",
     "output_type": "stream",
     "text": [
      "Populating the interactive namespace from numpy and matplotlib\n"
     ]
    }
   ],
   "source": [
    "import networkx as nx\n",
    "import math\n",
    "import itertools\n",
    "%pylab inline\n",
    "from sklearn.metrics import pairwise_distances\n",
    "import sys"
   ]
  },
  {
   "cell_type": "code",
   "execution_count": 8,
   "metadata": {},
   "outputs": [],
   "source": [
    "sys.path.append(\"../CODE\") # add code folder\n",
    "from NNO_util_minh import *"
   ]
  },
  {
   "cell_type": "code",
   "execution_count": 10,
   "metadata": {},
   "outputs": [
    {
     "name": "stdout",
     "output_type": "stream",
     "text": [
      "The file dolphins.gml contains an undirected social network of frequent\n",
      "associations between 62 dolphins in a community living off Doubtful Sound,\n",
      "New Zealand, as compiled by Lusseau et al. (2003).  Please cite\n",
      "\n",
      "  D. Lusseau, K. Schneider, O. J. Boisseau, P. Haase, E. Slooten, and\n",
      "  S. M. Dawson, The bottlenose dolphin community of Doubtful Sound features\n",
      "  a large proportion of long-lasting associations, Behavioral Ecology and\n",
      "  Sociobiology 54, 396-405 (2003).\n",
      "\n",
      "Additional information on the network can be found in\n",
      "\n",
      "  D. Lusseau, The emergent properties of a dolphin social network,\n",
      "  Proc. R. Soc. London B (suppl.) 270, S186-S188 (2003).\n",
      "\n",
      "  D. Lusseau, Evidence for social role in a dolphin social network,\n",
      "  Preprint q-bio/0607048 (http://arxiv.org/abs/q-bio.PE/0607048)\n",
      "\n"
     ]
    }
   ],
   "source": [
    "f=open('dolphins.txt','r')\n",
    "print(f.read())\n",
    "f1=open('dolphins.gml','r')\n",
    "#print(f1.read())"
   ]
  },
  {
   "cell_type": "code",
   "execution_count": null,
   "metadata": {},
   "outputs": [],
   "source": []
  },
  {
   "cell_type": "code",
   "execution_count": 11,
   "metadata": {},
   "outputs": [],
   "source": [
    "my_graph = nx.Graph()\n",
    "gml_graph = nx.read_gml('./dolphins.gml')\n",
    "pos=nx.spring_layout(gml_graph)\n",
    "#nx.draw(gml_graph, with_labels=True, font_weight='bold')\n",
    "#plt.savefig('Dolphins.pdf')\n",
    "#plt.show()"
   ]
  },
  {
   "cell_type": "code",
   "execution_count": 12,
   "metadata": {},
   "outputs": [],
   "source": [
    "def draw(G, pos, measures, measure_name):\n",
    "    \n",
    "    nodes = nx.draw_networkx_nodes(G, pos, node_size=250, cmap=plt.cm.plasma, \n",
    "                                   node_color=measures.values(),\n",
    "                                   nodelist=measures.keys())\n",
    "    nodes.set_norm(mcolors.SymLogNorm(linthresh=0.01, linscale=1))\n",
    "    \n",
    "    # labels = nx.draw_networkx_labels(G, pos)\n",
    "    edges = nx.draw_networkx_edges(G, pos)\n",
    "\n",
    "    plt.title(measure_name)\n",
    "    plt.colorbar(nodes)\n",
    "    plt.axis('off')\n",
    "    plt.show()\n"
   ]
  },
  {
   "cell_type": "code",
   "execution_count": 13,
   "metadata": {},
   "outputs": [],
   "source": [
    "def run_pagerank_save_iterations(x0,T,Al,N):\n",
    "    x=x0.copy()\n",
    "    previous_r = x\n",
    "    X = np.zeros((T,N))\n",
    "    for i in range(0,T):\n",
    "        X[i,:] = x\n",
    "        x = x*Al\n",
    "        x = x/sum(x)\n",
    "        \n",
    "    return X\n",
    "\n",
    "def compute_Bottleneck_kNN(T,X):\n",
    "    bottle_distances_kNN = zeros(T)\n",
    "    nodes=rowvect2D(X[-1])\n",
    "    FINAL_neighbor_order_matrix = neighbor_ordering(nodes,'max')\n",
    "    FINAL_diag_kNN=dist2PD(FINAL_neighbor_order_matrix,1,13)[1]\n",
    "    for t in range(T):\n",
    "        nodes=rowvect2D(X[t])\n",
    "        neighbor_order_matrix = neighbor_ordering(nodes,'max')\n",
    "        diag_kNN=dist2PD(neighbor_order_matrix,1,13)[1]\n",
    "        bottle_distances_kNN[t] = bottleneck(diag_kNN,FINAL_diag_kNN)[0]\n",
    "        bottle_distances_kNN[t] = bottle_distances_kNN[t] * (bottle_distances_kNN[t]>10**(-16))\n",
    "    return bottle_distances_kNN\n",
    "\n",
    "def compute_Bottleneck_kNN_min(T,X):\n",
    "    bottle_distances_kNN_min = zeros(T)\n",
    "    nodes=rowvect2D(X[-1])\n",
    "    FINAL_neighbor_order_matrix_min = neighbor_ordering(nodes,'min')\n",
    "    FINAL_diag_kNN_min=dist2PD(FINAL_neighbor_order_matrix_min,1,13)[1]\n",
    "    for t in range(T):\n",
    "        nodes=rowvect2D(X[t])\n",
    "        neighbor_order_matrix_min = neighbor_ordering(nodes,'min')\n",
    "        diag_kNN_min=dist2PD(neighbor_order_matrix_min,1,13)[1]\n",
    "        bottle_distances_kNN_min[t] = bottleneck(diag_kNN_min,FINAL_diag_kNN_min)[0]\n",
    "        bottle_distances_kNN_min[t] = bottle_distances_kNN_min[t] * (bottle_distances_kNN_min[t]>10**(-16))\n",
    "    return bottle_distances_kNN_min\n",
    "\n",
    "def compute_Bottleneck_VR(T,X):\n",
    "    bottle_distances_VR = zeros(T)\n",
    "    nodesf=rowvect2D(X[-1])\n",
    "    dnf=dists(nodesf,nodesf)\n",
    "    FINAL_diag_VR=dist2PD(dnf,2,1)[1]\n",
    "    for t in range(T):\n",
    "        nodes=rowvect2D(X[t])\n",
    "        dn=dists(nodes,nodes)    \n",
    "        diag_VR=dist2PD(dn,2,1)[1]\n",
    "        bottle_distances_VR[t] = bottleneck(diag_VR,FINAL_diag_VR)[0]\n",
    "    return bottle_distances_VR\n",
    "\n",
    "def ranks(X):\n",
    "    ranks = zeros(shape(X))\n",
    "    for t in range(len(X)):\n",
    "        ranks[t] = argsort(-X[t])\n",
    "    return ranks\n",
    "\n",
    "def diff(X):\n",
    "    diff_X = array([ norm(Xt - X[-1]) for Xt in X ])\n",
    "    r = ranks(X)\n",
    "    diff_ranks = np.sum( abs(r-r[-1]) > 0 ,1 )    \n",
    "    return diff_X,diff_ranks\n"
   ]
  },
  {
   "cell_type": "code",
   "execution_count": null,
   "metadata": {},
   "outputs": [],
   "source": []
  },
  {
   "cell_type": "code",
   "execution_count": null,
   "metadata": {},
   "outputs": [],
   "source": []
  },
  {
   "cell_type": "markdown",
   "metadata": {},
   "source": [
    "# Study impact of teleportation parameter on kNN homology convergence for Dolphins network"
   ]
  },
  {
   "cell_type": "code",
   "execution_count": 14,
   "metadata": {},
   "outputs": [],
   "source": [
    "def run_PR_alpha(graph,alpha=.85,T=80):    \n",
    "    Al = nx.google_matrix(graph, alpha, personalization=None, nodelist=None, weight='weight', dangling=None)\n",
    "    N=len(Al)\n",
    "    x0 = linspace(2,3,N) \n",
    "    x0 = x0.T/sum(x0)\n",
    "    X=run_pagerank_save_iterations(x0,T,Al,N)\n",
    "    return X"
   ]
  },
  {
   "cell_type": "code",
   "execution_count": 15,
   "metadata": {},
   "outputs": [],
   "source": [
    "#alphas = [.55,.75,.95]\n",
    "alphas = [.5,.65,.8,.95]\n"
   ]
  },
  {
   "cell_type": "code",
   "execution_count": 16,
   "metadata": {},
   "outputs": [
    {
     "name": "stdout",
     "output_type": "stream",
     "text": [
      "alpha =  0.5\n",
      "alpha =  0.65\n",
      "alpha =  0.8\n",
      "alpha =  0.95\n"
     ]
    },
    {
     "data": {
      "image/png": "[encoded data removed]",
      "text/plain": [
       "<Figure size 720x360 with 8 Axes>"
      ]
     },
     "metadata": {
      "needs_background": "light"
     },
     "output_type": "display_data"
    }
   ],
   "source": [
    "its = arange(61)\n",
    "T=80 \n",
    "\n",
    "\n",
    "f1,ax = plt.subplots(2,len(alphas),figsize=(10,5),sharex=True)\n",
    "\n",
    "for i,alpha in enumerate(alphas):\n",
    "    print('alpha = ',alpha)\n",
    "    \n",
    "    X = run_PR_alpha(gml_graph,alpha,T)\n",
    "\n",
    "    diffs = diff(X)\n",
    "    ax[0,i].semilogy(diffs[0][its])\n",
    "    ax[0,i].semilogy(compute_Bottleneck_VR(T,X)[its])\n",
    "    ax[0,i].set_ylim(10**-13,10**-1)\n",
    "    #ax[0,i].set_title(r'Geometrical Convergence ($\\alpha='+str(alpha)+'$)' )\n",
    "    \n",
    "    ax[0,i].set_title(r'$\\alpha='+str(alpha)+'$' )\n",
    "    \n",
    "    ax[1,i].plot(diffs[1][its])\n",
    "    ax[1,i].plot((compute_Bottleneck_kNN(T,X)[its][its]))\n",
    "    ax[1,i].plot((compute_Bottleneck_kNN_min(T,X)[its]))\n",
    "\n",
    "    ax[1,i].set_xlabel(r'iteration, $t$')\n",
    "    ax[1,i].set_ylim(-5,50)\n",
    "\n",
    "    if i>0:\n",
    "        ax[0,i].set_yticks([])\n",
    "        ax[1,i].set_yticks([])\n",
    "\n",
    "    \n",
    "ax[0,0].legend([r'$||x^{(t)} -\\pi||_2$','VR'],loc='upper right')\n",
    "ax[1,0].legend([r'$||R(x^{(t)}) -R(\\pi)||_1$','kNN max', 'kNN min'],loc='upper right')\n",
    "ax[0,0].set_ylabel('Geom. Convergence \\n')\n",
    "ax[1,0].set_ylabel('Disc. Topo. Convergence \\n\\n')\n",
    "    \n",
    "plt.tight_layout()\n",
    "plt.savefig('Dolphins_convergence_parameters.pdf')\n"
   ]
  },
  {
   "cell_type": "code",
   "execution_count": null,
   "metadata": {},
   "outputs": [],
   "source": []
  },
  {
   "cell_type": "code",
   "execution_count": null,
   "metadata": {},
   "outputs": [],
   "source": []
  },
  {
   "cell_type": "code",
   "execution_count": null,
   "metadata": {},
   "outputs": [],
   "source": []
  }
 ],
 "metadata": {
  "kernelspec": {
   "display_name": "Python 3 (ipykernel)",
   "language": "python",
   "name": "python3"
  },
  "language_info": {
   "codemirror_mode": {
    "name": "ipython",
    "version": 3
   },
   "file_extension": ".py",
   "mimetype": "text/x-python",
   "name": "python",
   "nbconvert_exporter": "python",
   "pygments_lexer": "ipython3",
   "version": "3.9.7"
  },
  "latex_envs": {
   "LaTeX_envs_menu_present": true,
   "autocomplete": true,
   "bibliofile": "biblio.bib",
   "cite_by": "apalike",
   "current_citInitial": 1,
   "eqLabelWithNumbers": true,
   "eqNumInitial": 1,
   "hotkeys": {
    "equation": "Ctrl-E",
    "itemize": "Ctrl-I"
   },
   "labels_anchors": false,
   "latex_user_defs": false,
   "report_style_numbering": false,
   "user_envs_cfg": false
  }
 },
 "nbformat": 4,
 "nbformat_minor": 4
}
